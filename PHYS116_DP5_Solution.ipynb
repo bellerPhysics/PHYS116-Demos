{
 "cells": [
  {
   "cell_type": "markdown",
   "id": "1c275fb9-b251-420b-b507-a3255da7afb7",
   "metadata": {},
   "source": [
    "Fourier series for $e^x$ on $[-\\pi,\\pi)$:"
   ]
  },
  {
   "cell_type": "code",
   "execution_count": 55,
   "id": "53821cc3-5b6f-45a7-85a7-b40525b793b7",
   "metadata": {
    "jupyter": {
     "source_hidden": true
    }
   },
   "outputs": [
    {
     "data": {
      "text/latex": [
       "\n",
       "\\begin{align*}\n",
       "    a_n &= \\frac{1}{\\pi} \\int_{-\\pi}^\\pi dx e^x \\cos(nx) \\\\\n",
       "    &= \\frac{1}{\\pi} \\int_{-\\pi}^\\pi dx e^x \\frac{e^{inx} + e^{-inx}}{2} \\\\\n",
       "    &= \\frac{1}{2\\pi  } \\int_{-\\pi}^\\pi dx \\left[ e^{x(1+in)} + e^{x(1-in)}\\right]\\\\\n",
       "    &= \\frac{1}{2\\pi  } \\left[ \\frac{e^{x(1+in)}}{1+in} \n",
       "                               + \\frac{e^{x(1-in)}}{1-in}\\right]^\\pi_{-\\pi} \\\\\n",
       "    &= \\frac{1}{2\\pi }\\left[ \\frac{e^{\\pi(1+in)}}{1+in} \n",
       "                             + \\frac{e^{\\pi(1-in)}}{1-in} \n",
       "                             - \\frac{e^{-\\pi(1+in)}}{1+in} \n",
       "                             - \\frac{e^{-\\pi(1-in)}}{1-in}\n",
       "                            \\right] \\\\\n",
       "    &= \\frac{1}{2\\pi } \\left[ \\frac{(-1)^n (e^\\pi - e^{-\\pi})}{1+in}\n",
       "                               + \\frac{(-1)^n e^\\pi - e^{-\\pi}}{1-in}\n",
       "                              \\right] \\\\\n",
       "    &= \\frac{(-1)^n \\sinh(\\pi)}{\\pi  } \\frac{(1+in) + (1-in)}{(1+in)(1-in)} \\\\\n",
       "    &= \\frac{2(-1)^n \\sinh(\\pi)}{\\pi(1+n^2)}\n",
       "\\end{align*}\n"
      ],
      "text/plain": [
       "<IPython.core.display.Latex object>"
      ]
     },
     "metadata": {},
     "output_type": "display_data"
    }
   ],
   "source": [
    "%%latex\n",
    "\n",
    "\\begin{align*}\n",
    "    a_n &= \\frac{1}{\\pi} \\int_{-\\pi}^\\pi dx e^x \\cos(nx) \\\\\n",
    "    &= \\frac{1}{\\pi} \\int_{-\\pi}^\\pi dx e^x \\frac{e^{inx} + e^{-inx}}{2} \\\\\n",
    "    &= \\frac{1}{2\\pi  } \\int_{-\\pi}^\\pi dx \\left[ e^{x(1+in)} + e^{x(1-in)}\\right]\\\\\n",
    "    &= \\frac{1}{2\\pi  } \\left[ \\frac{e^{x(1+in)}}{1+in} \n",
    "                               + \\frac{e^{x(1-in)}}{1-in}\\right]^\\pi_{-\\pi} \\\\\n",
    "    &= \\frac{1}{2\\pi }\\left[ \\frac{e^{\\pi(1+in)}}{1+in} \n",
    "                             + \\frac{e^{\\pi(1-in)}}{1-in} \n",
    "                             - \\frac{e^{-\\pi(1+in)}}{1+in} \n",
    "                             - \\frac{e^{-\\pi(1-in)}}{1-in}\n",
    "                            \\right] \\\\\n",
    "    &= \\frac{1}{2\\pi } \\left[ \\frac{(-1)^n (e^\\pi - e^{-\\pi})}{1+in}\n",
    "                               + \\frac{(-1)^n e^\\pi - e^{-\\pi}}{1-in}\n",
    "                              \\right] \\\\\n",
    "    &= \\frac{(-1)^n \\sinh(\\pi)}{\\pi  } \\frac{(1+in) + (1-in)}{(1+in)(1-in)} \\\\\n",
    "    &= \\frac{2(-1)^n \\sinh(\\pi)}{\\pi(1+n^2)}\n",
    "\\end{align*}\n"
   ]
  },
  {
   "cell_type": "code",
   "execution_count": 56,
   "id": "faa358e3-b291-40f6-ad18-05fb44c29e5b",
   "metadata": {
    "jupyter": {
     "source_hidden": true
    }
   },
   "outputs": [
    {
     "data": {
      "text/latex": [
       "\n",
       "\\begin{align*}\n",
       "    b_n &= \\frac{1}{\\pi} \\int_{-\\pi}^\\pi dx e^x \\sin(nx) \\\\\n",
       "    &= \\frac{1}{\\pi} \\int_{-\\pi}^\\pi dx e^x \\frac{e^{inx} - e^{-inx}}{2i} \\\\\n",
       "    &= \\frac{1}{2\\pi i } \\int_{-\\pi}^\\pi dx \\left[ e^{x(1+in)} - e^{x(1-in)}\\right]\\\\\n",
       "    &= \\frac{1}{2\\pi i } \\left[ \\frac{e^{x(1+in)}}{1+in} \n",
       "                               - \\frac{e^{x(1-in)}}{1-in}\\right]^\\pi_{-\\pi} \\\\\n",
       "    &= \\frac{1}{2\\pi i}\\left[ \\frac{e^{\\pi(1+in)}}{1+in} \n",
       "                             - \\frac{e^{\\pi(1-in)}}{1-in} \n",
       "                             - \\frac{e^{-\\pi(1+in)}}{1+in} \n",
       "                             + \\frac{e^{-\\pi(1-in)}}{1-in}\n",
       "                            \\right] \\\\\n",
       "    &= \\frac{1}{2\\pi i } \\left[ \\frac{(-1)^n (e^\\pi - e^{-\\pi})}{1+in}\n",
       "                               - \\frac{(-1)^n e^\\pi - e^{-\\pi}}{1-in}\n",
       "                              \\right] \\\\\n",
       "    &= \\frac{(-1)^n \\sinh(\\pi)}{\\pi i } \\frac{(1-in) - (1+in)}{(1+in)(1-in)} \\\\\n",
       "    &= -\\frac{2(-1)^n \\sinh(\\pi) n}{\\pi(1+n^2)}\n",
       "\\end{align*}\n"
      ],
      "text/plain": [
       "<IPython.core.display.Latex object>"
      ]
     },
     "metadata": {},
     "output_type": "display_data"
    }
   ],
   "source": [
    "%%latex\n",
    "\n",
    "\\begin{align*}\n",
    "    b_n &= \\frac{1}{\\pi} \\int_{-\\pi}^\\pi dx e^x \\sin(nx) \\\\\n",
    "    &= \\frac{1}{\\pi} \\int_{-\\pi}^\\pi dx e^x \\frac{e^{inx} - e^{-inx}}{2i} \\\\\n",
    "    &= \\frac{1}{2\\pi i } \\int_{-\\pi}^\\pi dx \\left[ e^{x(1+in)} - e^{x(1-in)}\\right]\\\\\n",
    "    &= \\frac{1}{2\\pi i } \\left[ \\frac{e^{x(1+in)}}{1+in} \n",
    "                               - \\frac{e^{x(1-in)}}{1-in}\\right]^\\pi_{-\\pi} \\\\\n",
    "    &= \\frac{1}{2\\pi i}\\left[ \\frac{e^{\\pi(1+in)}}{1+in} \n",
    "                             - \\frac{e^{\\pi(1-in)}}{1-in} \n",
    "                             - \\frac{e^{-\\pi(1+in)}}{1+in} \n",
    "                             + \\frac{e^{-\\pi(1-in)}}{1-in}\n",
    "                            \\right] \\\\\n",
    "    &= \\frac{1}{2\\pi i } \\left[ \\frac{(-1)^n (e^\\pi - e^{-\\pi})}{1+in}\n",
    "                               - \\frac{(-1)^n e^\\pi - e^{-\\pi}}{1-in}\n",
    "                              \\right] \\\\\n",
    "    &= \\frac{(-1)^n \\sinh(\\pi)}{\\pi i } \\frac{(1-in) - (1+in)}{(1+in)(1-in)} \\\\\n",
    "    &= -\\frac{2(-1)^n \\sinh(\\pi) n}{\\pi(1+n^2)}\n",
    "\\end{align*}"
   ]
  },
  {
   "cell_type": "code",
   "execution_count": 1,
   "id": "73a0adaf-afba-4e88-b428-81bb5eccaa97",
   "metadata": {
    "tags": []
   },
   "outputs": [
    {
     "data": {
      "application/vnd.jupyter.widget-view+json": {
       "model_id": "3f3ea438aab944c28825dd89cbeef774",
       "version_major": 2,
       "version_minor": 0
      },
      "text/plain": [
       "interactive(children=(IntSlider(value=1, description='$n_{max}$'), Output()), _dom_classes=('widget-interact',…"
      ]
     },
     "metadata": {},
     "output_type": "display_data"
    },
    {
     "data": {
      "text/plain": [
       "<function __main__.fseries_plot(nmax)>"
      ]
     },
     "execution_count": 1,
     "metadata": {},
     "output_type": "execute_result"
    }
   ],
   "source": [
    "%matplotlib widget \n",
    "import matplotlib.pyplot as plt\n",
    "import numpy as np\n",
    "from math import pi, sinh, sin, cos\n",
    "import ipywidgets as widgets\n",
    "from ipywidgets import interact\n",
    "\n",
    "def fourier_approx(x, nmax):\n",
    "    result = 0\n",
    "    for n in range(0, nmax+1):\n",
    "        an = 2 * (-1)**n * sinh(pi) / (pi * (1+n**2))\n",
    "        bn = -2 * (-1)**n * sinh(pi) * n / (pi * (1+n**2))\n",
    "        if n==0:\n",
    "            result += an/2\n",
    "        else:\n",
    "            result += an * cos(n*x) + bn * sin(n*x)\n",
    "    return result\n",
    "\n",
    "def fseries_plot(nmax):\n",
    "    plt.clf()\n",
    "    xvals = np.linspace(-pi, pi, 500)\n",
    "    yvals = np.array([fourier_approx(x, nmax) for x in xvals])\n",
    "    plt.plot(xvals, yvals)\n",
    "\n",
    "    true_yvals = np.exp(xvals)\n",
    "    plt.plot(xvals, true_yvals)\n",
    "\n",
    "    plt.legend([r'Fourier series, $n_{max}=$'+f'{nmax}', r'$e^x$'])\n",
    "    plt.xlabel(r'$x$')\n",
    "    plt.show()\n",
    "\n",
    "interact(fseries_plot, nmax=widgets.IntSlider(\n",
    "    value=1, min=0, max=100, \n",
    "    description=r'$n_{max}$'\n",
    "    )\n",
    "        )\n"
   ]
  },
  {
   "cell_type": "code",
   "execution_count": 2,
   "id": "d785a004-1436-4943-be0a-048a0a3beccb",
   "metadata": {},
   "outputs": [
    {
     "data": {
      "application/vnd.jupyter.widget-view+json": {
       "model_id": "c734645c40634cf68642a084c77735ae",
       "version_major": 2,
       "version_minor": 0
      },
      "text/html": [
       "\n",
       "            <div style=\"display: inline-block;\">\n",
       "                <div class=\"jupyter-widgets widget-label\" style=\"text-align: center;\">\n",
       "                    Figure\n",
       "                </div>\n",
       "                <img src='data:image/png;base64,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' width=640.0/>\n",
       "            </div>\n",
       "        "
      ],
      "text/plain": [
       "Canvas(toolbar=Toolbar(toolitems=[('Home', 'Reset original view', 'home', 'home'), ('Back', 'Back to previous …"
      ]
     },
     "metadata": {},
     "output_type": "display_data"
    }
   ],
   "source": [
    "fseries_plot(50)"
   ]
  },
  {
   "cell_type": "code",
   "execution_count": null,
   "id": "6967e24a-8ece-4a89-b287-638e72baf997",
   "metadata": {},
   "outputs": [],
   "source": []
  }
 ],
 "metadata": {
  "kernelspec": {
   "display_name": "PHYS116-Demos",
   "language": "python",
   "name": "phys116-demos"
  },
  "language_info": {
   "codemirror_mode": {
    "name": "ipython",
    "version": 3
   },
   "file_extension": ".py",
   "mimetype": "text/x-python",
   "name": "python",
   "nbconvert_exporter": "python",
   "pygments_lexer": "ipython3",
   "version": "3.9.5"
  }
 },
 "nbformat": 4,
 "nbformat_minor": 5
}
