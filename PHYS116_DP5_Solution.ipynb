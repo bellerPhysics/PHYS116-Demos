{
 "cells": [
  {
   "cell_type": "markdown",
   "id": "1c275fb9-b251-420b-b507-a3255da7afb7",
   "metadata": {},
   "source": [
    "Fourier series for $e^x$ on $[-\\pi,\\pi)$:"
   ]
  },
  {
   "cell_type": "code",
   "execution_count": 55,
   "id": "53821cc3-5b6f-45a7-85a7-b40525b793b7",
   "metadata": {
    "jupyter": {
     "source_hidden": true
    }
   },
   "outputs": [
    {
     "data": {
      "text/latex": [
       "\n",
       "\\begin{align*}\n",
       "    a_n &= \\frac{1}{\\pi} \\int_{-\\pi}^\\pi dx e^x \\cos(nx) \\\\\n",
       "    &= \\frac{1}{\\pi} \\int_{-\\pi}^\\pi dx e^x \\frac{e^{inx} + e^{-inx}}{2} \\\\\n",
       "    &= \\frac{1}{2\\pi  } \\int_{-\\pi}^\\pi dx \\left[ e^{x(1+in)} + e^{x(1-in)}\\right]\\\\\n",
       "    &= \\frac{1}{2\\pi  } \\left[ \\frac{e^{x(1+in)}}{1+in} \n",
       "                               + \\frac{e^{x(1-in)}}{1-in}\\right]^\\pi_{-\\pi} \\\\\n",
       "    &= \\frac{1}{2\\pi }\\left[ \\frac{e^{\\pi(1+in)}}{1+in} \n",
       "                             + \\frac{e^{\\pi(1-in)}}{1-in} \n",
       "                             - \\frac{e^{-\\pi(1+in)}}{1+in} \n",
       "                             - \\frac{e^{-\\pi(1-in)}}{1-in}\n",
       "                            \\right] \\\\\n",
       "    &= \\frac{1}{2\\pi } \\left[ \\frac{(-1)^n (e^\\pi - e^{-\\pi})}{1+in}\n",
       "                               + \\frac{(-1)^n e^\\pi - e^{-\\pi}}{1-in}\n",
       "                              \\right] \\\\\n",
       "    &= \\frac{(-1)^n \\sinh(\\pi)}{\\pi  } \\frac{(1+in) + (1-in)}{(1+in)(1-in)} \\\\\n",
       "    &= \\frac{2(-1)^n \\sinh(\\pi)}{\\pi(1+n^2)}\n",
       "\\end{align*}\n"
      ],
      "text/plain": [
       "<IPython.core.display.Latex object>"
      ]
     },
     "metadata": {},
     "output_type": "display_data"
    }
   ],
   "source": [
    "%%latex\n",
    "\n",
    "\\begin{align*}\n",
    "    a_n &= \\frac{1}{\\pi} \\int_{-\\pi}^\\pi dx e^x \\cos(nx) \\\\\n",
    "    &= \\frac{1}{\\pi} \\int_{-\\pi}^\\pi dx e^x \\frac{e^{inx} + e^{-inx}}{2} \\\\\n",
    "    &= \\frac{1}{2\\pi  } \\int_{-\\pi}^\\pi dx \\left[ e^{x(1+in)} + e^{x(1-in)}\\right]\\\\\n",
    "    &= \\frac{1}{2\\pi  } \\left[ \\frac{e^{x(1+in)}}{1+in} \n",
    "                               + \\frac{e^{x(1-in)}}{1-in}\\right]^\\pi_{-\\pi} \\\\\n",
    "    &= \\frac{1}{2\\pi }\\left[ \\frac{e^{\\pi(1+in)}}{1+in} \n",
    "                             + \\frac{e^{\\pi(1-in)}}{1-in} \n",
    "                             - \\frac{e^{-\\pi(1+in)}}{1+in} \n",
    "                             - \\frac{e^{-\\pi(1-in)}}{1-in}\n",
    "                            \\right] \\\\\n",
    "    &= \\frac{1}{2\\pi } \\left[ \\frac{(-1)^n (e^\\pi - e^{-\\pi})}{1+in}\n",
    "                               + \\frac{(-1)^n e^\\pi - e^{-\\pi}}{1-in}\n",
    "                              \\right] \\\\\n",
    "    &= \\frac{(-1)^n \\sinh(\\pi)}{\\pi  } \\frac{(1+in) + (1-in)}{(1+in)(1-in)} \\\\\n",
    "    &= \\frac{2(-1)^n \\sinh(\\pi)}{\\pi(1+n^2)}\n",
    "\\end{align*}\n"
   ]
  },
  {
   "cell_type": "code",
   "execution_count": 56,
   "id": "faa358e3-b291-40f6-ad18-05fb44c29e5b",
   "metadata": {
    "jupyter": {
     "source_hidden": true
    }
   },
   "outputs": [
    {
     "data": {
      "text/latex": [
       "\n",
       "\\begin{align*}\n",
       "    b_n &= \\frac{1}{\\pi} \\int_{-\\pi}^\\pi dx e^x \\sin(nx) \\\\\n",
       "    &= \\frac{1}{\\pi} \\int_{-\\pi}^\\pi dx e^x \\frac{e^{inx} - e^{-inx}}{2i} \\\\\n",
       "    &= \\frac{1}{2\\pi i } \\int_{-\\pi}^\\pi dx \\left[ e^{x(1+in)} - e^{x(1-in)}\\right]\\\\\n",
       "    &= \\frac{1}{2\\pi i } \\left[ \\frac{e^{x(1+in)}}{1+in} \n",
       "                               - \\frac{e^{x(1-in)}}{1-in}\\right]^\\pi_{-\\pi} \\\\\n",
       "    &= \\frac{1}{2\\pi i}\\left[ \\frac{e^{\\pi(1+in)}}{1+in} \n",
       "                             - \\frac{e^{\\pi(1-in)}}{1-in} \n",
       "                             - \\frac{e^{-\\pi(1+in)}}{1+in} \n",
       "                             + \\frac{e^{-\\pi(1-in)}}{1-in}\n",
       "                            \\right] \\\\\n",
       "    &= \\frac{1}{2\\pi i } \\left[ \\frac{(-1)^n (e^\\pi - e^{-\\pi})}{1+in}\n",
       "                               - \\frac{(-1)^n e^\\pi - e^{-\\pi}}{1-in}\n",
       "                              \\right] \\\\\n",
       "    &= \\frac{(-1)^n \\sinh(\\pi)}{\\pi i } \\frac{(1-in) - (1+in)}{(1+in)(1-in)} \\\\\n",
       "    &= -\\frac{2(-1)^n \\sinh(\\pi) n}{\\pi(1+n^2)}\n",
       "\\end{align*}\n"
      ],
      "text/plain": [
       "<IPython.core.display.Latex object>"
      ]
     },
     "metadata": {},
     "output_type": "display_data"
    }
   ],
   "source": [
    "%%latex\n",
    "\n",
    "\\begin{align*}\n",
    "    b_n &= \\frac{1}{\\pi} \\int_{-\\pi}^\\pi dx e^x \\sin(nx) \\\\\n",
    "    &= \\frac{1}{\\pi} \\int_{-\\pi}^\\pi dx e^x \\frac{e^{inx} - e^{-inx}}{2i} \\\\\n",
    "    &= \\frac{1}{2\\pi i } \\int_{-\\pi}^\\pi dx \\left[ e^{x(1+in)} - e^{x(1-in)}\\right]\\\\\n",
    "    &= \\frac{1}{2\\pi i } \\left[ \\frac{e^{x(1+in)}}{1+in} \n",
    "                               - \\frac{e^{x(1-in)}}{1-in}\\right]^\\pi_{-\\pi} \\\\\n",
    "    &= \\frac{1}{2\\pi i}\\left[ \\frac{e^{\\pi(1+in)}}{1+in} \n",
    "                             - \\frac{e^{\\pi(1-in)}}{1-in} \n",
    "                             - \\frac{e^{-\\pi(1+in)}}{1+in} \n",
    "                             + \\frac{e^{-\\pi(1-in)}}{1-in}\n",
    "                            \\right] \\\\\n",
    "    &= \\frac{1}{2\\pi i } \\left[ \\frac{(-1)^n (e^\\pi - e^{-\\pi})}{1+in}\n",
    "                               - \\frac{(-1)^n e^\\pi - e^{-\\pi}}{1-in}\n",
    "                              \\right] \\\\\n",
    "    &= \\frac{(-1)^n \\sinh(\\pi)}{\\pi i } \\frac{(1-in) - (1+in)}{(1+in)(1-in)} \\\\\n",
    "    &= -\\frac{2(-1)^n \\sinh(\\pi) n}{\\pi(1+n^2)}\n",
    "\\end{align*}"
   ]
  },
  {
   "cell_type": "code",
   "execution_count": 1,
   "id": "73a0adaf-afba-4e88-b428-81bb5eccaa97",
   "metadata": {
    "tags": []
   },
   "outputs": [
    {
     "data": {
      "application/vnd.jupyter.widget-view+json": {
       "model_id": "3f3ea438aab944c28825dd89cbeef774",
       "version_major": 2,
       "version_minor": 0
      },
      "text/plain": [
       "interactive(children=(IntSlider(value=1, description='$n_{max}$'), Output()), _dom_classes=('widget-interact',…"
      ]
     },
     "metadata": {},
     "output_type": "display_data"
    },
    {
     "data": {
      "text/plain": [
       "<function __main__.fseries_plot(nmax)>"
      ]
     },
     "execution_count": 1,
     "metadata": {},
     "output_type": "execute_result"
    }
   ],
   "source": [
    "%matplotlib widget \n",
    "import matplotlib.pyplot as plt\n",
    "import numpy as np\n",
    "from math import pi, sinh, sin, cos\n",
    "import ipywidgets as widgets\n",
    "from ipywidgets import interact\n",
    "\n",
    "def fourier_approx(x, nmax):\n",
    "    result = 0\n",
    "    for n in range(0, nmax+1):\n",
    "        an = 2 * (-1)**n * sinh(pi) / (pi * (1+n**2))\n",
    "        bn = -2 * (-1)**n * sinh(pi) * n / (pi * (1+n**2))\n",
    "        if n==0:\n",
    "            result += an/2\n",
    "        else:\n",
    "            result += an * cos(n*x) + bn * sin(n*x)\n",
    "    return result\n",
    "\n",
    "def fseries_plot(nmax):\n",
    "    plt.clf()\n",
    "    xvals = np.linspace(-pi, pi, 500)\n",
    "    yvals = np.array([fourier_approx(x, nmax) for x in xvals])\n",
    "    plt.plot(xvals, yvals)\n",
    "\n",
    "    true_yvals = np.exp(xvals)\n",
    "    plt.plot(xvals, true_yvals)\n",
    "\n",
    "    plt.legend([r'Fourier series, $n_{max}=$'+f'{nmax}', r'$e^x$'])\n",
    "    plt.xlabel(r'$x$')\n",
    "    plt.show()\n",
    "\n",
    "interact(fseries_plot, nmax=widgets.IntSlider(\n",
    "    value=1, min=0, max=100, \n",
    "    description=r'$n_{max}$'\n",
    "    )\n",
    "        )\n"
   ]
  }
 ],
 "metadata": {
  "kernelspec": {
   "display_name": "PHYS116-Demos",
   "language": "python",
   "name": "phys116-demos"
  },
  "language_info": {
   "codemirror_mode": {
    "name": "ipython",
    "version": 3
   },
   "file_extension": ".py",
   "mimetype": "text/x-python",
   "name": "python",
   "nbconvert_exporter": "python",
   "pygments_lexer": "ipython3",
   "version": "3.9.5"
  }
 },
 "nbformat": 4,
 "nbformat_minor": 5
}
